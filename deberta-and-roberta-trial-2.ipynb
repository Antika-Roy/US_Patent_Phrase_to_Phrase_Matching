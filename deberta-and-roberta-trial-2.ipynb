{
 "cells": [
  {
   "cell_type": "markdown",
   "id": "a92a1a51",
   "metadata": {
    "papermill": {
     "duration": 0.028286,
     "end_time": "2022-05-11T17:52:58.459398",
     "exception": false,
     "start_time": "2022-05-11T17:52:58.431112",
     "status": "completed"
    },
    "tags": []
   },
   "source": [
    "Ensemble of the three notebooks.Please upvote the original notebooks:\n",
    "\n",
    "**1. Deberta v3 large**\n",
    "[PPPM / Deberta-v3-large baseline [inference]](https://www.kaggle.com/code/yasufuminakama/pppm-deberta-v3-large-baseline-inference)\n",
    "\n",
    "**2. Roberta-large**\n",
    "[PatentPhrase RoBERTa Inference](https://www.kaggle.com/code/santhoshkumarv/patentphrase-roberta-inference-lb-0-814)\n",
    "\n",
    "And use ensemble strategy from:\n",
    "[Tips for ensambling](https://www.kaggle.com/code/jellyz9/tips-for-ensambling)"
   ]
  },
  {
   "cell_type": "markdown",
   "id": "881b41a7",
   "metadata": {
    "papermill": {
     "duration": 0.026053,
     "end_time": "2022-05-11T17:52:58.511988",
     "exception": false,
     "start_time": "2022-05-11T17:52:58.485935",
     "status": "completed"
    },
    "tags": []
   },
   "source": [
    "## 1.Deberta v3 large"
   ]
  },
  {
   "cell_type": "code",
   "execution_count": 1,
   "id": "30174e8d",
   "metadata": {
    "execution": {
     "iopub.execute_input": "2022-05-11T17:52:58.569584Z",
     "iopub.status.busy": "2022-05-11T17:52:58.569212Z",
     "iopub.status.idle": "2022-05-11T17:52:58.579958Z",
     "shell.execute_reply": "2022-05-11T17:52:58.579261Z"
    },
    "papermill": {
     "duration": 0.040259,
     "end_time": "2022-05-11T17:52:58.581836",
     "exception": false,
     "start_time": "2022-05-11T17:52:58.541577",
     "status": "completed"
    },
    "tags": []
   },
   "outputs": [],
   "source": [
    "# ====================================================\n",
    "# Directory settings\n",
    "# ====================================================\n",
    "import os\n",
    "\n",
    "INPUT_DIR = '../input/us-patent-phrase-to-phrase-matching/'\n",
    "OUTPUT_DIR = './'\n",
    "if not os.path.exists(OUTPUT_DIR):\n",
    "    os.makedirs(OUTPUT_DIR)"
   ]
  },
  {
   "cell_type": "code",
   "execution_count": 2,
   "id": "c83a1a9f",
   "metadata": {
    "execution": {
     "iopub.execute_input": "2022-05-11T17:52:58.636048Z",
     "iopub.status.busy": "2022-05-11T17:52:58.635815Z",
     "iopub.status.idle": "2022-05-11T17:52:58.640253Z",
     "shell.execute_reply": "2022-05-11T17:52:58.639626Z"
    },
    "papermill": {
     "duration": 0.033311,
     "end_time": "2022-05-11T17:52:58.641967",
     "exception": false,
     "start_time": "2022-05-11T17:52:58.608656",
     "status": "completed"
    },
    "tags": []
   },
   "outputs": [],
   "source": [
    "# ====================================================\n",
    "# CFG\n",
    "# ====================================================\n",
    "class CFG:\n",
    "    num_workers=4\n",
    "    path=\"../input/pppm-deberta-v3-large-baseline-w-w-b-train/\"\n",
    "    config_path=path+'config.pth'\n",
    "    model=\"microsoft/deberta-v3-large\"\n",
    "    batch_size=32\n",
    "    fc_dropout=0.2\n",
    "    target_size=1\n",
    "    max_len=133\n",
    "    seed=42\n",
    "    n_fold=4\n",
    "    trn_fold=[0, 1, 2, 3]"
   ]
  },
  {
   "cell_type": "code",
   "execution_count": 3,
   "id": "9125f6fd",
   "metadata": {
    "execution": {
     "iopub.execute_input": "2022-05-11T17:52:58.697601Z",
     "iopub.status.busy": "2022-05-11T17:52:58.696993Z",
     "iopub.status.idle": "2022-05-11T17:53:30.682470Z",
     "shell.execute_reply": "2022-05-11T17:53:30.681729Z"
    },
    "papermill": {
     "duration": 32.048495,
     "end_time": "2022-05-11T17:53:30.716848",
     "exception": false,
     "start_time": "2022-05-11T17:52:58.668353",
     "status": "completed"
    },
    "tags": []
   },
   "outputs": [
    {
     "name": "stdout",
     "output_type": "stream",
     "text": [
      "Found existing installation: transformers 4.18.0\n",
      "Uninstalling transformers-4.18.0:\n",
      "  Successfully uninstalled transformers-4.18.0\n"
     ]
    },
    {
     "name": "stderr",
     "output_type": "stream",
     "text": [
      "WARNING: Running pip as the 'root' user can result in broken permissions and conflicting behaviour with the system package manager. It is recommended to use a virtual environment instead: https://pip.pypa.io/warnings/venv\n"
     ]
    },
    {
     "name": "stdout",
     "output_type": "stream",
     "text": [
      "Found existing installation: tokenizers 0.12.1\n",
      "Uninstalling tokenizers-0.12.1:\n",
      "  Successfully uninstalled tokenizers-0.12.1\n"
     ]
    },
    {
     "name": "stderr",
     "output_type": "stream",
     "text": [
      "WARNING: Running pip as the 'root' user can result in broken permissions and conflicting behaviour with the system package manager. It is recommended to use a virtual environment instead: https://pip.pypa.io/warnings/venv\n"
     ]
    },
    {
     "name": "stdout",
     "output_type": "stream",
     "text": [
      "Looking in links: ../input/pppm-pip-wheels-dataset\n",
      "Processing /kaggle/input/pppm-pip-wheels-dataset/transformers-4.16.2-py3-none-any.whl\n",
      "Requirement already satisfied: numpy>=1.17 in /opt/conda/lib/python3.7/site-packages (from transformers) (1.21.6)\n",
      "Requirement already satisfied: requests in /opt/conda/lib/python3.7/site-packages (from transformers) (2.27.1)\n",
      "Requirement already satisfied: sacremoses in /opt/conda/lib/python3.7/site-packages (from transformers) (0.0.49)\n",
      "Requirement already satisfied: tqdm>=4.27 in /opt/conda/lib/python3.7/site-packages (from transformers) (4.63.0)\n",
      "Requirement already satisfied: huggingface-hub<1.0,>=0.1.0 in /opt/conda/lib/python3.7/site-packages (from transformers) (0.5.1)\n",
      "Requirement already satisfied: regex!=2019.12.17 in /opt/conda/lib/python3.7/site-packages (from transformers) (2021.11.10)\n",
      "Requirement already satisfied: importlib-metadata in /opt/conda/lib/python3.7/site-packages (from transformers) (4.11.3)\n",
      "Requirement already satisfied: packaging>=20.0 in /opt/conda/lib/python3.7/site-packages (from transformers) (21.3)\n",
      "Processing /kaggle/input/pppm-pip-wheels-dataset/tokenizers-0.11.6-cp37-cp37m-manylinux_2_12_x86_64.manylinux2010_x86_64.whl\n",
      "Requirement already satisfied: filelock in /opt/conda/lib/python3.7/site-packages (from transformers) (3.6.0)\n",
      "Requirement already satisfied: pyyaml>=5.1 in /opt/conda/lib/python3.7/site-packages (from transformers) (6.0)\n",
      "Requirement already satisfied: typing-extensions>=3.7.4.3 in /opt/conda/lib/python3.7/site-packages (from huggingface-hub<1.0,>=0.1.0->transformers) (4.2.0)\n",
      "Requirement already satisfied: pyparsing!=3.0.5,>=2.0.2 in /opt/conda/lib/python3.7/site-packages (from packaging>=20.0->transformers) (3.0.7)\n",
      "Requirement already satisfied: zipp>=0.5 in /opt/conda/lib/python3.7/site-packages (from importlib-metadata->transformers) (3.7.0)\n",
      "Requirement already satisfied: urllib3<1.27,>=1.21.1 in /opt/conda/lib/python3.7/site-packages (from requests->transformers) (1.26.8)\n",
      "Requirement already satisfied: certifi>=2017.4.17 in /opt/conda/lib/python3.7/site-packages (from requests->transformers) (2021.10.8)\n",
      "Requirement already satisfied: idna<4,>=2.5 in /opt/conda/lib/python3.7/site-packages (from requests->transformers) (3.3)\n",
      "Requirement already satisfied: charset-normalizer~=2.0.0 in /opt/conda/lib/python3.7/site-packages (from requests->transformers) (2.0.12)\n",
      "Requirement already satisfied: joblib in /opt/conda/lib/python3.7/site-packages (from sacremoses->transformers) (1.0.1)\n",
      "Requirement already satisfied: six in /opt/conda/lib/python3.7/site-packages (from sacremoses->transformers) (1.16.0)\n",
      "Requirement already satisfied: click in /opt/conda/lib/python3.7/site-packages (from sacremoses->transformers) (8.0.4)\n",
      "Installing collected packages: tokenizers, transformers\n",
      "Successfully installed tokenizers-0.11.6 transformers-4.16.2\n"
     ]
    },
    {
     "name": "stderr",
     "output_type": "stream",
     "text": [
      "WARNING: Running pip as the 'root' user can result in broken permissions and conflicting behaviour with the system package manager. It is recommended to use a virtual environment instead: https://pip.pypa.io/warnings/venv\n"
     ]
    },
    {
     "name": "stdout",
     "output_type": "stream",
     "text": [
      "Looking in links: ../input/pppm-pip-wheels-dataset\n",
      "Requirement already satisfied: tokenizers in /opt/conda/lib/python3.7/site-packages (0.11.6)\n"
     ]
    },
    {
     "name": "stderr",
     "output_type": "stream",
     "text": [
      "WARNING: Running pip as the 'root' user can result in broken permissions and conflicting behaviour with the system package manager. It is recommended to use a virtual environment instead: https://pip.pypa.io/warnings/venv\n"
     ]
    },
    {
     "name": "stdout",
     "output_type": "stream",
     "text": [
      "tokenizers.__version__: 0.11.6\n",
      "transformers.__version__: 4.16.2\n",
      "tokenizers.__version__: 0.11.6\n",
      "transformers.__version__: 4.16.2\n",
      "env: TOKENIZERS_PARALLELISM=true\n"
     ]
    }
   ],
   "source": [
    "import os\n",
    "import gc\n",
    "import math\n",
    "import time\n",
    "import random\n",
    "import scipy as sp\n",
    "import numpy as np\n",
    "import pandas as pd\n",
    "from sklearn import preprocessing\n",
    "from sklearn import model_selection\n",
    "from dataclasses import dataclass\n",
    "from typing import Optional\n",
    "from tqdm import tqdm\n",
    "import torch\n",
    "import torch.nn as nn\n",
    "import torch.nn.functional as F\n",
    "from torch.utils.data import DataLoader, Dataset\n",
    "\n",
    "os.system('pip uninstall -y transformers')\n",
    "os.system('pip uninstall -y tokenizers')\n",
    "os.system('python -m pip install --no-index --find-links=../input/pppm-pip-wheels-dataset transformers')\n",
    "os.system('python -m pip install --no-index --find-links=../input/pppm-pip-wheels-dataset tokenizers')\n",
    "import tokenizers\n",
    "import transformers\n",
    "print(f\"tokenizers.__version__: {tokenizers.__version__}\")\n",
    "print(f\"transformers.__version__: {transformers.__version__}\")\n",
    "\n",
    "from transformers import AdamW, AutoConfig, AutoModel, AutoTokenizer, get_cosine_schedule_with_warmup\n",
    "print(f\"tokenizers.__version__: {tokenizers.__version__}\")\n",
    "print(f\"transformers.__version__: {transformers.__version__}\")\n",
    "from transformers import AutoTokenizer, AutoModel, AutoConfig\n",
    "from transformers import get_linear_schedule_with_warmup, get_cosine_schedule_with_warmup\n",
    "%env TOKENIZERS_PARALLELISM=true\n",
    "\n",
    "\n",
    "import warnings \n",
    "warnings.filterwarnings('ignore')\n",
    "\n",
    "device = torch.device('cuda' if torch.cuda.is_available() else 'cpu')"
   ]
  },
  {
   "cell_type": "code",
   "execution_count": 4,
   "id": "b34192f7",
   "metadata": {
    "execution": {
     "iopub.execute_input": "2022-05-11T17:53:30.781932Z",
     "iopub.status.busy": "2022-05-11T17:53:30.781687Z",
     "iopub.status.idle": "2022-05-11T17:53:30.792111Z",
     "shell.execute_reply": "2022-05-11T17:53:30.791485Z"
    },
    "papermill": {
     "duration": 0.044865,
     "end_time": "2022-05-11T17:53:30.793828",
     "exception": false,
     "start_time": "2022-05-11T17:53:30.748963",
     "status": "completed"
    },
    "tags": []
   },
   "outputs": [],
   "source": [
    "# ====================================================\n",
    "# Utils\n",
    "# ====================================================\n",
    "def get_score(y_true, y_pred):\n",
    "    score = sp.stats.pearsonr(y_true, y_pred)[0]\n",
    "    return score\n",
    "\n",
    "\n",
    "def get_logger(filename=OUTPUT_DIR+'train'):\n",
    "    from logging import getLogger, INFO, StreamHandler, FileHandler, Formatter\n",
    "    logger = getLogger(__name__)\n",
    "    logger.setLevel(INFO)\n",
    "    handler1 = StreamHandler()\n",
    "    handler1.setFormatter(Formatter(\"%(message)s\"))\n",
    "    handler2 = FileHandler(filename=f\"{filename}.log\")\n",
    "    handler2.setFormatter(Formatter(\"%(message)s\"))\n",
    "    logger.addHandler(handler1)\n",
    "    logger.addHandler(handler2)\n",
    "    return logger\n",
    "\n",
    "LOGGER = get_logger()\n",
    "\n",
    "def seed_everything(seed=42):\n",
    "    random.seed(seed)\n",
    "    os.environ['PYTHONHASHSEED'] = str(seed)\n",
    "    np.random.seed(seed)\n",
    "    torch.manual_seed(seed)\n",
    "    torch.cuda.manual_seed(seed)\n",
    "    torch.backends.cudnn.deterministic = True\n",
    "    \n",
    "seed_everything(seed=42)"
   ]
  },
  {
   "cell_type": "code",
   "execution_count": 5,
   "id": "2bc78f8b",
   "metadata": {
    "execution": {
     "iopub.execute_input": "2022-05-11T17:53:30.859068Z",
     "iopub.status.busy": "2022-05-11T17:53:30.858737Z",
     "iopub.status.idle": "2022-05-11T17:53:30.979464Z",
     "shell.execute_reply": "2022-05-11T17:53:30.978566Z"
    },
    "papermill": {
     "duration": 0.157144,
     "end_time": "2022-05-11T17:53:30.982464",
     "exception": false,
     "start_time": "2022-05-11T17:53:30.825320",
     "status": "completed"
    },
    "tags": []
   },
   "outputs": [
    {
     "name": "stderr",
     "output_type": "stream",
     "text": [
      "CV Score: 0.8588\n"
     ]
    }
   ],
   "source": [
    "oof_df = pd.read_pickle(CFG.path+'oof_df.pkl')\n",
    "labels = oof_df['score'].values\n",
    "preds = oof_df['pred'].values\n",
    "score = get_score(labels, preds)\n",
    "LOGGER.info(f'CV Score: {score:<.4f}')"
   ]
  },
  {
   "cell_type": "code",
   "execution_count": 6,
   "id": "7aa3cb15",
   "metadata": {
    "execution": {
     "iopub.execute_input": "2022-05-11T17:53:31.101314Z",
     "iopub.status.busy": "2022-05-11T17:53:31.100985Z",
     "iopub.status.idle": "2022-05-11T17:53:31.138028Z",
     "shell.execute_reply": "2022-05-11T17:53:31.137242Z"
    },
    "papermill": {
     "duration": 0.098237,
     "end_time": "2022-05-11T17:53:31.139889",
     "exception": false,
     "start_time": "2022-05-11T17:53:31.041652",
     "status": "completed"
    },
    "tags": []
   },
   "outputs": [
    {
     "name": "stdout",
     "output_type": "stream",
     "text": [
      "test.shape: (36, 4)\n",
      "submission.shape: (36, 2)\n"
     ]
    },
    {
     "data": {
      "text/html": [
       "<div>\n",
       "<style scoped>\n",
       "    .dataframe tbody tr th:only-of-type {\n",
       "        vertical-align: middle;\n",
       "    }\n",
       "\n",
       "    .dataframe tbody tr th {\n",
       "        vertical-align: top;\n",
       "    }\n",
       "\n",
       "    .dataframe thead th {\n",
       "        text-align: right;\n",
       "    }\n",
       "</style>\n",
       "<table border=\"1\" class=\"dataframe\">\n",
       "  <thead>\n",
       "    <tr style=\"text-align: right;\">\n",
       "      <th></th>\n",
       "      <th>id</th>\n",
       "      <th>anchor</th>\n",
       "      <th>target</th>\n",
       "      <th>context</th>\n",
       "    </tr>\n",
       "  </thead>\n",
       "  <tbody>\n",
       "    <tr>\n",
       "      <th>0</th>\n",
       "      <td>4112d61851461f60</td>\n",
       "      <td>opc drum</td>\n",
       "      <td>inorganic photoconductor drum</td>\n",
       "      <td>G02</td>\n",
       "    </tr>\n",
       "    <tr>\n",
       "      <th>1</th>\n",
       "      <td>09e418c93a776564</td>\n",
       "      <td>adjust gas flow</td>\n",
       "      <td>altering gas flow</td>\n",
       "      <td>F23</td>\n",
       "    </tr>\n",
       "    <tr>\n",
       "      <th>2</th>\n",
       "      <td>36baf228038e314b</td>\n",
       "      <td>lower trunnion</td>\n",
       "      <td>lower locating</td>\n",
       "      <td>B60</td>\n",
       "    </tr>\n",
       "    <tr>\n",
       "      <th>3</th>\n",
       "      <td>1f37ead645e7f0c8</td>\n",
       "      <td>cap component</td>\n",
       "      <td>upper portion</td>\n",
       "      <td>D06</td>\n",
       "    </tr>\n",
       "    <tr>\n",
       "      <th>4</th>\n",
       "      <td>71a5b6ad068d531f</td>\n",
       "      <td>neural stimulation</td>\n",
       "      <td>artificial neural network</td>\n",
       "      <td>H04</td>\n",
       "    </tr>\n",
       "  </tbody>\n",
       "</table>\n",
       "</div>"
      ],
      "text/plain": [
       "                 id              anchor                         target context\n",
       "0  4112d61851461f60            opc drum  inorganic photoconductor drum     G02\n",
       "1  09e418c93a776564     adjust gas flow              altering gas flow     F23\n",
       "2  36baf228038e314b      lower trunnion                 lower locating     B60\n",
       "3  1f37ead645e7f0c8       cap component                  upper portion     D06\n",
       "4  71a5b6ad068d531f  neural stimulation      artificial neural network     H04"
      ]
     },
     "metadata": {},
     "output_type": "display_data"
    },
    {
     "data": {
      "text/html": [
       "<div>\n",
       "<style scoped>\n",
       "    .dataframe tbody tr th:only-of-type {\n",
       "        vertical-align: middle;\n",
       "    }\n",
       "\n",
       "    .dataframe tbody tr th {\n",
       "        vertical-align: top;\n",
       "    }\n",
       "\n",
       "    .dataframe thead th {\n",
       "        text-align: right;\n",
       "    }\n",
       "</style>\n",
       "<table border=\"1\" class=\"dataframe\">\n",
       "  <thead>\n",
       "    <tr style=\"text-align: right;\">\n",
       "      <th></th>\n",
       "      <th>id</th>\n",
       "      <th>score</th>\n",
       "    </tr>\n",
       "  </thead>\n",
       "  <tbody>\n",
       "    <tr>\n",
       "      <th>0</th>\n",
       "      <td>4112d61851461f60</td>\n",
       "      <td>0</td>\n",
       "    </tr>\n",
       "    <tr>\n",
       "      <th>1</th>\n",
       "      <td>09e418c93a776564</td>\n",
       "      <td>0</td>\n",
       "    </tr>\n",
       "    <tr>\n",
       "      <th>2</th>\n",
       "      <td>36baf228038e314b</td>\n",
       "      <td>0</td>\n",
       "    </tr>\n",
       "    <tr>\n",
       "      <th>3</th>\n",
       "      <td>1f37ead645e7f0c8</td>\n",
       "      <td>0</td>\n",
       "    </tr>\n",
       "    <tr>\n",
       "      <th>4</th>\n",
       "      <td>71a5b6ad068d531f</td>\n",
       "      <td>0</td>\n",
       "    </tr>\n",
       "  </tbody>\n",
       "</table>\n",
       "</div>"
      ],
      "text/plain": [
       "                 id  score\n",
       "0  4112d61851461f60      0\n",
       "1  09e418c93a776564      0\n",
       "2  36baf228038e314b      0\n",
       "3  1f37ead645e7f0c8      0\n",
       "4  71a5b6ad068d531f      0"
      ]
     },
     "metadata": {},
     "output_type": "display_data"
    }
   ],
   "source": [
    "# ====================================================\n",
    "# Data Loading\n",
    "# ====================================================\n",
    "test = pd.read_csv(INPUT_DIR+'test.csv')\n",
    "submission = pd.read_csv(INPUT_DIR+'sample_submission.csv')\n",
    "print(f\"test.shape: {test.shape}\")\n",
    "print(f\"submission.shape: {submission.shape}\")\n",
    "display(test.head())\n",
    "display(submission.head())"
   ]
  },
  {
   "cell_type": "code",
   "execution_count": 7,
   "id": "d169323b",
   "metadata": {
    "execution": {
     "iopub.execute_input": "2022-05-11T17:53:31.207892Z",
     "iopub.status.busy": "2022-05-11T17:53:31.207319Z",
     "iopub.status.idle": "2022-05-11T17:53:31.228461Z",
     "shell.execute_reply": "2022-05-11T17:53:31.227792Z"
    },
    "papermill": {
     "duration": 0.05704,
     "end_time": "2022-05-11T17:53:31.230097",
     "exception": false,
     "start_time": "2022-05-11T17:53:31.173057",
     "status": "completed"
    },
    "tags": []
   },
   "outputs": [
    {
     "data": {
      "text/html": [
       "<div>\n",
       "<style scoped>\n",
       "    .dataframe tbody tr th:only-of-type {\n",
       "        vertical-align: middle;\n",
       "    }\n",
       "\n",
       "    .dataframe tbody tr th {\n",
       "        vertical-align: top;\n",
       "    }\n",
       "\n",
       "    .dataframe thead th {\n",
       "        text-align: right;\n",
       "    }\n",
       "</style>\n",
       "<table border=\"1\" class=\"dataframe\">\n",
       "  <thead>\n",
       "    <tr style=\"text-align: right;\">\n",
       "      <th></th>\n",
       "      <th>id</th>\n",
       "      <th>anchor</th>\n",
       "      <th>target</th>\n",
       "      <th>context</th>\n",
       "      <th>context_text</th>\n",
       "    </tr>\n",
       "  </thead>\n",
       "  <tbody>\n",
       "    <tr>\n",
       "      <th>0</th>\n",
       "      <td>4112d61851461f60</td>\n",
       "      <td>opc drum</td>\n",
       "      <td>inorganic photoconductor drum</td>\n",
       "      <td>G02</td>\n",
       "      <td>PHYSICS. OPTICS</td>\n",
       "    </tr>\n",
       "    <tr>\n",
       "      <th>1</th>\n",
       "      <td>09e418c93a776564</td>\n",
       "      <td>adjust gas flow</td>\n",
       "      <td>altering gas flow</td>\n",
       "      <td>F23</td>\n",
       "      <td>MECHANICAL ENGINEERING; LIGHTING; HEATING; WEA...</td>\n",
       "    </tr>\n",
       "    <tr>\n",
       "      <th>2</th>\n",
       "      <td>36baf228038e314b</td>\n",
       "      <td>lower trunnion</td>\n",
       "      <td>lower locating</td>\n",
       "      <td>B60</td>\n",
       "      <td>PERFORMING OPERATIONS; TRANSPORTING. VEHICLES ...</td>\n",
       "    </tr>\n",
       "    <tr>\n",
       "      <th>3</th>\n",
       "      <td>1f37ead645e7f0c8</td>\n",
       "      <td>cap component</td>\n",
       "      <td>upper portion</td>\n",
       "      <td>D06</td>\n",
       "      <td>TEXTILES; PAPER. TREATMENT OF TEXTILES OR THE ...</td>\n",
       "    </tr>\n",
       "    <tr>\n",
       "      <th>4</th>\n",
       "      <td>71a5b6ad068d531f</td>\n",
       "      <td>neural stimulation</td>\n",
       "      <td>artificial neural network</td>\n",
       "      <td>H04</td>\n",
       "      <td>ELECTRICITY. ELECTRIC COMMUNICATION TECHNIQUE</td>\n",
       "    </tr>\n",
       "  </tbody>\n",
       "</table>\n",
       "</div>"
      ],
      "text/plain": [
       "                 id              anchor                         target  \\\n",
       "0  4112d61851461f60            opc drum  inorganic photoconductor drum   \n",
       "1  09e418c93a776564     adjust gas flow              altering gas flow   \n",
       "2  36baf228038e314b      lower trunnion                 lower locating   \n",
       "3  1f37ead645e7f0c8       cap component                  upper portion   \n",
       "4  71a5b6ad068d531f  neural stimulation      artificial neural network   \n",
       "\n",
       "  context                                       context_text  \n",
       "0     G02                                    PHYSICS. OPTICS  \n",
       "1     F23  MECHANICAL ENGINEERING; LIGHTING; HEATING; WEA...  \n",
       "2     B60  PERFORMING OPERATIONS; TRANSPORTING. VEHICLES ...  \n",
       "3     D06  TEXTILES; PAPER. TREATMENT OF TEXTILES OR THE ...  \n",
       "4     H04      ELECTRICITY. ELECTRIC COMMUNICATION TECHNIQUE  "
      ]
     },
     "metadata": {},
     "output_type": "display_data"
    }
   ],
   "source": [
    "# ====================================================\n",
    "# CPC Data\n",
    "# ====================================================\n",
    "cpc_texts = torch.load(CFG.path+\"cpc_texts.pth\")\n",
    "test['context_text'] = test['context'].map(cpc_texts)\n",
    "display(test.head())"
   ]
  },
  {
   "cell_type": "code",
   "execution_count": 8,
   "id": "f4c14bd8",
   "metadata": {
    "execution": {
     "iopub.execute_input": "2022-05-11T17:53:31.300295Z",
     "iopub.status.busy": "2022-05-11T17:53:31.300062Z",
     "iopub.status.idle": "2022-05-11T17:53:31.314231Z",
     "shell.execute_reply": "2022-05-11T17:53:31.313600Z"
    },
    "papermill": {
     "duration": 0.051847,
     "end_time": "2022-05-11T17:53:31.316166",
     "exception": false,
     "start_time": "2022-05-11T17:53:31.264319",
     "status": "completed"
    },
    "tags": []
   },
   "outputs": [
    {
     "data": {
      "text/html": [
       "<div>\n",
       "<style scoped>\n",
       "    .dataframe tbody tr th:only-of-type {\n",
       "        vertical-align: middle;\n",
       "    }\n",
       "\n",
       "    .dataframe tbody tr th {\n",
       "        vertical-align: top;\n",
       "    }\n",
       "\n",
       "    .dataframe thead th {\n",
       "        text-align: right;\n",
       "    }\n",
       "</style>\n",
       "<table border=\"1\" class=\"dataframe\">\n",
       "  <thead>\n",
       "    <tr style=\"text-align: right;\">\n",
       "      <th></th>\n",
       "      <th>id</th>\n",
       "      <th>anchor</th>\n",
       "      <th>target</th>\n",
       "      <th>context</th>\n",
       "      <th>context_text</th>\n",
       "      <th>text</th>\n",
       "    </tr>\n",
       "  </thead>\n",
       "  <tbody>\n",
       "    <tr>\n",
       "      <th>0</th>\n",
       "      <td>4112d61851461f60</td>\n",
       "      <td>opc drum</td>\n",
       "      <td>inorganic photoconductor drum</td>\n",
       "      <td>G02</td>\n",
       "      <td>PHYSICS. OPTICS</td>\n",
       "      <td>opc drum[SEP]inorganic photoconductor drum[SEP...</td>\n",
       "    </tr>\n",
       "    <tr>\n",
       "      <th>1</th>\n",
       "      <td>09e418c93a776564</td>\n",
       "      <td>adjust gas flow</td>\n",
       "      <td>altering gas flow</td>\n",
       "      <td>F23</td>\n",
       "      <td>MECHANICAL ENGINEERING; LIGHTING; HEATING; WEA...</td>\n",
       "      <td>adjust gas flow[SEP]altering gas flow[SEP]MECH...</td>\n",
       "    </tr>\n",
       "    <tr>\n",
       "      <th>2</th>\n",
       "      <td>36baf228038e314b</td>\n",
       "      <td>lower trunnion</td>\n",
       "      <td>lower locating</td>\n",
       "      <td>B60</td>\n",
       "      <td>PERFORMING OPERATIONS; TRANSPORTING. VEHICLES ...</td>\n",
       "      <td>lower trunnion[SEP]lower locating[SEP]PERFORMI...</td>\n",
       "    </tr>\n",
       "    <tr>\n",
       "      <th>3</th>\n",
       "      <td>1f37ead645e7f0c8</td>\n",
       "      <td>cap component</td>\n",
       "      <td>upper portion</td>\n",
       "      <td>D06</td>\n",
       "      <td>TEXTILES; PAPER. TREATMENT OF TEXTILES OR THE ...</td>\n",
       "      <td>cap component[SEP]upper portion[SEP]TEXTILES; ...</td>\n",
       "    </tr>\n",
       "    <tr>\n",
       "      <th>4</th>\n",
       "      <td>71a5b6ad068d531f</td>\n",
       "      <td>neural stimulation</td>\n",
       "      <td>artificial neural network</td>\n",
       "      <td>H04</td>\n",
       "      <td>ELECTRICITY. ELECTRIC COMMUNICATION TECHNIQUE</td>\n",
       "      <td>neural stimulation[SEP]artificial neural netwo...</td>\n",
       "    </tr>\n",
       "  </tbody>\n",
       "</table>\n",
       "</div>"
      ],
      "text/plain": [
       "                 id              anchor                         target  \\\n",
       "0  4112d61851461f60            opc drum  inorganic photoconductor drum   \n",
       "1  09e418c93a776564     adjust gas flow              altering gas flow   \n",
       "2  36baf228038e314b      lower trunnion                 lower locating   \n",
       "3  1f37ead645e7f0c8       cap component                  upper portion   \n",
       "4  71a5b6ad068d531f  neural stimulation      artificial neural network   \n",
       "\n",
       "  context                                       context_text  \\\n",
       "0     G02                                    PHYSICS. OPTICS   \n",
       "1     F23  MECHANICAL ENGINEERING; LIGHTING; HEATING; WEA...   \n",
       "2     B60  PERFORMING OPERATIONS; TRANSPORTING. VEHICLES ...   \n",
       "3     D06  TEXTILES; PAPER. TREATMENT OF TEXTILES OR THE ...   \n",
       "4     H04      ELECTRICITY. ELECTRIC COMMUNICATION TECHNIQUE   \n",
       "\n",
       "                                                text  \n",
       "0  opc drum[SEP]inorganic photoconductor drum[SEP...  \n",
       "1  adjust gas flow[SEP]altering gas flow[SEP]MECH...  \n",
       "2  lower trunnion[SEP]lower locating[SEP]PERFORMI...  \n",
       "3  cap component[SEP]upper portion[SEP]TEXTILES; ...  \n",
       "4  neural stimulation[SEP]artificial neural netwo...  "
      ]
     },
     "metadata": {},
     "output_type": "display_data"
    }
   ],
   "source": [
    "test['text'] = test['anchor'] + '[SEP]' + test['target'] + '[SEP]'  + test['context_text']\n",
    "display(test.head())"
   ]
  },
  {
   "cell_type": "code",
   "execution_count": 9,
   "id": "303de433",
   "metadata": {
    "execution": {
     "iopub.execute_input": "2022-05-11T17:53:31.387952Z",
     "iopub.status.busy": "2022-05-11T17:53:31.387399Z",
     "iopub.status.idle": "2022-05-11T17:53:32.119663Z",
     "shell.execute_reply": "2022-05-11T17:53:32.118954Z"
    },
    "papermill": {
     "duration": 0.770962,
     "end_time": "2022-05-11T17:53:32.121927",
     "exception": false,
     "start_time": "2022-05-11T17:53:31.350965",
     "status": "completed"
    },
    "tags": []
   },
   "outputs": [],
   "source": [
    "# ====================================================\n",
    "# tokenizer\n",
    "# ====================================================\n",
    "CFG.tokenizer = AutoTokenizer.from_pretrained(CFG.path+'tokenizer/')"
   ]
  },
  {
   "cell_type": "code",
   "execution_count": 10,
   "id": "d68663f9",
   "metadata": {
    "execution": {
     "iopub.execute_input": "2022-05-11T17:53:32.193274Z",
     "iopub.status.busy": "2022-05-11T17:53:32.192641Z",
     "iopub.status.idle": "2022-05-11T17:53:32.199551Z",
     "shell.execute_reply": "2022-05-11T17:53:32.198920Z"
    },
    "papermill": {
     "duration": 0.043874,
     "end_time": "2022-05-11T17:53:32.201169",
     "exception": false,
     "start_time": "2022-05-11T17:53:32.157295",
     "status": "completed"
    },
    "tags": []
   },
   "outputs": [],
   "source": [
    "# ====================================================\n",
    "# Dataset\n",
    "# ====================================================\n",
    "def prepare_input(cfg, text):\n",
    "    inputs = cfg.tokenizer(text,\n",
    "                           add_special_tokens=True,\n",
    "                           max_length=cfg.max_len,\n",
    "                           padding=\"max_length\",\n",
    "                           return_offsets_mapping=False)\n",
    "    for k, v in inputs.items():\n",
    "        inputs[k] = torch.tensor(v, dtype=torch.long)\n",
    "    return inputs\n",
    "\n",
    "\n",
    "class TestDataset(Dataset):\n",
    "    def __init__(self, cfg, df):\n",
    "        self.cfg = cfg\n",
    "        self.texts = df['text'].values\n",
    "\n",
    "    def __len__(self):\n",
    "        return len(self.texts)\n",
    "\n",
    "    def __getitem__(self, item):\n",
    "        inputs = prepare_input(self.cfg, self.texts[item])\n",
    "        return inputs"
   ]
  },
  {
   "cell_type": "code",
   "execution_count": 11,
   "id": "492cf8a0",
   "metadata": {
    "execution": {
     "iopub.execute_input": "2022-05-11T17:53:32.270950Z",
     "iopub.status.busy": "2022-05-11T17:53:32.270419Z",
     "iopub.status.idle": "2022-05-11T17:53:32.286458Z",
     "shell.execute_reply": "2022-05-11T17:53:32.285829Z"
    },
    "papermill": {
     "duration": 0.052797,
     "end_time": "2022-05-11T17:53:32.288076",
     "exception": false,
     "start_time": "2022-05-11T17:53:32.235279",
     "status": "completed"
    },
    "tags": []
   },
   "outputs": [],
   "source": [
    "# ====================================================\n",
    "# Model\n",
    "# ====================================================\n",
    "class CustomModel(nn.Module):\n",
    "    def __init__(self, cfg, config_path=None, pretrained=False):\n",
    "        super().__init__()\n",
    "        self.cfg = cfg\n",
    "        if config_path is None:\n",
    "            self.config = AutoConfig.from_pretrained(cfg.model, output_hidden_states=True)\n",
    "        else:\n",
    "            self.config = torch.load(config_path)\n",
    "        if pretrained:\n",
    "            self.model = AutoModel.from_pretrained(cfg.model, config=self.config)\n",
    "        else:\n",
    "            self.model = AutoModel.from_config(self.config)\n",
    "        self.fc_dropout = nn.Dropout(cfg.fc_dropout)\n",
    "        self.fc = nn.Linear(self.config.hidden_size, self.cfg.target_size)\n",
    "        self._init_weights(self.fc)\n",
    "        self.attention = nn.Sequential(\n",
    "            nn.Linear(self.config.hidden_size, 512),\n",
    "            nn.Tanh(),\n",
    "            nn.Linear(512, 1),\n",
    "            nn.Softmax(dim=1)\n",
    "        )\n",
    "        self._init_weights(self.attention)\n",
    "        \n",
    "    def _init_weights(self, module):\n",
    "        if isinstance(module, nn.Linear):\n",
    "            module.weight.data.normal_(mean=0.0, std=self.config.initializer_range)\n",
    "            if module.bias is not None:\n",
    "                module.bias.data.zero_()\n",
    "        elif isinstance(module, nn.Embedding):\n",
    "            module.weight.data.normal_(mean=0.0, std=self.config.initializer_range)\n",
    "            if module.padding_idx is not None:\n",
    "                module.weight.data[module.padding_idx].zero_()\n",
    "        elif isinstance(module, nn.LayerNorm):\n",
    "            module.bias.data.zero_()\n",
    "            module.weight.data.fill_(1.0)\n",
    "        \n",
    "    def feature(self, inputs):\n",
    "        outputs = self.model(**inputs)\n",
    "        last_hidden_states = outputs[0]\n",
    "        # feature = torch.mean(last_hidden_states, 1)\n",
    "        weights = self.attention(last_hidden_states)\n",
    "        feature = torch.sum(weights * last_hidden_states, dim=1)\n",
    "        return feature\n",
    "\n",
    "    def forward(self, inputs):\n",
    "        feature = self.feature(inputs)\n",
    "        output = self.fc(self.fc_dropout(feature))\n",
    "        return output"
   ]
  },
  {
   "cell_type": "code",
   "execution_count": 12,
   "id": "6b6e47a1",
   "metadata": {
    "execution": {
     "iopub.execute_input": "2022-05-11T17:53:32.357855Z",
     "iopub.status.busy": "2022-05-11T17:53:32.357644Z",
     "iopub.status.idle": "2022-05-11T17:53:32.363365Z",
     "shell.execute_reply": "2022-05-11T17:53:32.362696Z"
    },
    "papermill": {
     "duration": 0.042534,
     "end_time": "2022-05-11T17:53:32.364977",
     "exception": false,
     "start_time": "2022-05-11T17:53:32.322443",
     "status": "completed"
    },
    "tags": []
   },
   "outputs": [],
   "source": [
    "# ====================================================\n",
    "# inference\n",
    "# ====================================================\n",
    "def inference_fn(test_loader, model, device):\n",
    "    preds = []\n",
    "    model.eval()\n",
    "    model.to(device)\n",
    "    tk0 = tqdm(test_loader, total=len(test_loader))\n",
    "    for inputs in tk0:\n",
    "        for k, v in inputs.items():\n",
    "            inputs[k] = v.to(device)\n",
    "        with torch.no_grad():\n",
    "            y_preds = model(inputs)\n",
    "        preds.append(y_preds.sigmoid().to('cpu').numpy())\n",
    "    predictions = np.concatenate(preds)\n",
    "    return predictions"
   ]
  },
  {
   "cell_type": "code",
   "execution_count": 13,
   "id": "7d951295",
   "metadata": {
    "execution": {
     "iopub.execute_input": "2022-05-11T17:53:32.436794Z",
     "iopub.status.busy": "2022-05-11T17:53:32.436279Z",
     "iopub.status.idle": "2022-05-11T17:55:17.886023Z",
     "shell.execute_reply": "2022-05-11T17:55:17.884701Z"
    },
    "papermill": {
     "duration": 105.488252,
     "end_time": "2022-05-11T17:55:17.887832",
     "exception": false,
     "start_time": "2022-05-11T17:53:32.399580",
     "status": "completed"
    },
    "tags": []
   },
   "outputs": [
    {
     "name": "stderr",
     "output_type": "stream",
     "text": [
      "100%|██████████| 2/2 [00:02<00:00,  1.02s/it]\n",
      "100%|██████████| 2/2 [00:01<00:00,  1.88it/s]\n",
      "100%|██████████| 2/2 [00:01<00:00,  1.87it/s]\n",
      "100%|██████████| 2/2 [00:01<00:00,  1.81it/s]\n"
     ]
    }
   ],
   "source": [
    "test_dataset = TestDataset(CFG, test)\n",
    "test_loader = DataLoader(test_dataset,\n",
    "                         batch_size=CFG.batch_size,\n",
    "                         shuffle=False,\n",
    "                         num_workers=CFG.num_workers, pin_memory=True, drop_last=False)\n",
    "predictions = []\n",
    "for fold in CFG.trn_fold:\n",
    "    model = CustomModel(CFG, config_path=CFG.config_path, pretrained=False)\n",
    "    state = torch.load(CFG.path+f\"{CFG.model.replace('/', '-')}_fold{fold}_best.pth\",\n",
    "                       map_location=torch.device('cpu'))\n",
    "    model.load_state_dict(state['model'])\n",
    "    prediction = inference_fn(test_loader, model, device)\n",
    "    predictions.append(prediction)\n",
    "    del model, state, prediction; gc.collect()\n",
    "    torch.cuda.empty_cache()\n",
    "pred1 = np.mean(predictions, axis=0)"
   ]
  },
  {
   "cell_type": "markdown",
   "id": "423cdc9f",
   "metadata": {
    "papermill": {
     "duration": 0.039674,
     "end_time": "2022-05-11T17:55:17.967114",
     "exception": false,
     "start_time": "2022-05-11T17:55:17.927440",
     "status": "completed"
    },
    "tags": []
   },
   "source": [
    "# 2.Roberta-large"
   ]
  },
  {
   "cell_type": "code",
   "execution_count": 14,
   "id": "d83d274c",
   "metadata": {
    "execution": {
     "iopub.execute_input": "2022-05-11T17:55:18.047347Z",
     "iopub.status.busy": "2022-05-11T17:55:18.047089Z",
     "iopub.status.idle": "2022-05-11T17:55:18.052607Z",
     "shell.execute_reply": "2022-05-11T17:55:18.051812Z"
    },
    "papermill": {
     "duration": 0.047624,
     "end_time": "2022-05-11T17:55:18.054516",
     "exception": false,
     "start_time": "2022-05-11T17:55:18.006892",
     "status": "completed"
    },
    "tags": []
   },
   "outputs": [],
   "source": [
    "def seed_everything(seed=42):\n",
    "    random.seed(seed)\n",
    "    os.environ['PYTHONHASHSEED'] = str(seed)\n",
    "    np.random.seed(seed)\n",
    "    torch.manual_seed(seed)\n",
    "    torch.cuda.manual_seed(seed)\n",
    "    torch.backends.cudnn.deterministic = True\n",
    "    torch.backends.cudnn.benchmark = False\n",
    "    \n",
    "seed_everything(seed=2019)"
   ]
  },
  {
   "cell_type": "code",
   "execution_count": 15,
   "id": "7241f097",
   "metadata": {
    "execution": {
     "iopub.execute_input": "2022-05-11T17:55:18.133998Z",
     "iopub.status.busy": "2022-05-11T17:55:18.133746Z",
     "iopub.status.idle": "2022-05-11T17:55:18.412034Z",
     "shell.execute_reply": "2022-05-11T17:55:18.411186Z"
    },
    "papermill": {
     "duration": 0.321312,
     "end_time": "2022-05-11T17:55:18.414638",
     "exception": false,
     "start_time": "2022-05-11T17:55:18.093326",
     "status": "completed"
    },
    "tags": []
   },
   "outputs": [],
   "source": [
    "@dataclass(frozen=True)\n",
    "class CFG:\n",
    "    num_workers: Optional[int] = 4\n",
    "    config_path: Optional[str] = '../input/robertalarge'\n",
    "    model_path: Optional[str] = '../input/phrase-matching-roberta-training-pytorch-wandb'\n",
    "    model_name: Optional[str] = 'roberta-large'\n",
    "    batch_size: Optional[int] = 32\n",
    "    max_len: Optional[int] = 128\n",
    "    seed: Optional[int] = 2019\n",
    "    num_targets: Optional[int] = 1\n",
    "    n_folds: Optional[int] = 5\n",
    "    tokenizer = AutoTokenizer.from_pretrained('../input/robertalarge')"
   ]
  },
  {
   "cell_type": "code",
   "execution_count": 16,
   "id": "7c0e26b2",
   "metadata": {
    "execution": {
     "iopub.execute_input": "2022-05-11T17:55:18.499664Z",
     "iopub.status.busy": "2022-05-11T17:55:18.499408Z",
     "iopub.status.idle": "2022-05-11T17:55:18.512779Z",
     "shell.execute_reply": "2022-05-11T17:55:18.512125Z"
    },
    "papermill": {
     "duration": 0.056459,
     "end_time": "2022-05-11T17:55:18.514481",
     "exception": false,
     "start_time": "2022-05-11T17:55:18.458022",
     "status": "completed"
    },
    "tags": []
   },
   "outputs": [],
   "source": [
    "PATH = '../input/us-patent-phrase-to-phrase-matching'\n",
    "test = pd.read_csv(os.path.join(PATH, 'test.csv'))\n",
    "sub = pd.read_csv(os.path.join(PATH, 'sample_submission.csv'))"
   ]
  },
  {
   "cell_type": "code",
   "execution_count": 17,
   "id": "a61f37c7",
   "metadata": {
    "execution": {
     "iopub.execute_input": "2022-05-11T17:55:18.596580Z",
     "iopub.status.busy": "2022-05-11T17:55:18.596322Z",
     "iopub.status.idle": "2022-05-11T17:55:18.604820Z",
     "shell.execute_reply": "2022-05-11T17:55:18.604125Z"
    },
    "papermill": {
     "duration": 0.051264,
     "end_time": "2022-05-11T17:55:18.606516",
     "exception": false,
     "start_time": "2022-05-11T17:55:18.555252",
     "status": "completed"
    },
    "tags": []
   },
   "outputs": [],
   "source": [
    "context_mapping = {\n",
    "        \"A\": \"Human Necessities\",\n",
    "        \"B\": \"Operations and Transport\",\n",
    "        \"C\": \"Chemistry and Metallurgy\",\n",
    "        \"D\": \"Textiles\",\n",
    "        \"E\": \"Fixed Constructions\",\n",
    "        \"F\": \"Mechanical Engineering\",\n",
    "        \"G\": \"Physics\",\n",
    "        \"H\": \"Electricity\",\n",
    "        \"Y\": \"Emerging Cross-Sectional Technologies\",\n",
    "}\n",
    "    \n",
    "test.context = test.context.apply(lambda x: context_mapping[x[0]])"
   ]
  },
  {
   "cell_type": "code",
   "execution_count": 18,
   "id": "c0c991ed",
   "metadata": {
    "execution": {
     "iopub.execute_input": "2022-05-11T17:55:18.688522Z",
     "iopub.status.busy": "2022-05-11T17:55:18.687780Z",
     "iopub.status.idle": "2022-05-11T17:55:18.695666Z",
     "shell.execute_reply": "2022-05-11T17:55:18.694961Z"
    },
    "papermill": {
     "duration": 0.050916,
     "end_time": "2022-05-11T17:55:18.697349",
     "exception": false,
     "start_time": "2022-05-11T17:55:18.646433",
     "status": "completed"
    },
    "tags": []
   },
   "outputs": [],
   "source": [
    "class PhraseDataset:\n",
    "    def __init__(self, anchor, target, context, tokenizer, max_len):\n",
    "        self.anchor = anchor\n",
    "        self.target = target\n",
    "        self.context = context\n",
    "        self.tokenizer = tokenizer\n",
    "        self.max_len = max_len\n",
    "\n",
    "    def __len__(self):\n",
    "        return len(self.anchor)\n",
    "\n",
    "    def __getitem__(self, item):\n",
    "        anchor = self.anchor[item]\n",
    "        context = self.context[item]\n",
    "        target = self.target[item]\n",
    "\n",
    "        encoded_text = CFG.tokenizer.encode_plus(\n",
    "            context + \" \" + anchor,\n",
    "            target,\n",
    "            padding=\"max_length\",\n",
    "            max_length=self.max_len,\n",
    "            truncation=True,\n",
    "        )\n",
    "        input_ids = encoded_text[\"input_ids\"]\n",
    "        attention_mask = encoded_text[\"attention_mask\"]\n",
    "\n",
    "        return {\n",
    "            \"ids\": torch.tensor(input_ids, dtype=torch.long),\n",
    "            \"mask\": torch.tensor(attention_mask, dtype=torch.long),\n",
    "        }"
   ]
  },
  {
   "cell_type": "code",
   "execution_count": 19,
   "id": "375f4747",
   "metadata": {
    "execution": {
     "iopub.execute_input": "2022-05-11T17:55:18.781156Z",
     "iopub.status.busy": "2022-05-11T17:55:18.780551Z",
     "iopub.status.idle": "2022-05-11T17:55:18.786944Z",
     "shell.execute_reply": "2022-05-11T17:55:18.786074Z"
    },
    "papermill": {
     "duration": 0.051316,
     "end_time": "2022-05-11T17:55:18.789334",
     "exception": false,
     "start_time": "2022-05-11T17:55:18.738018",
     "status": "completed"
    },
    "tags": []
   },
   "outputs": [],
   "source": [
    "def inference_fn(model, test_loader):  \n",
    "    model.eval()\n",
    "    predictions = []\n",
    "    tk0 = tqdm(test_loader, total=len(test_loader))\n",
    "    for data in tk0:\n",
    "        ids = data['ids'].to(device, dtype = torch.long)\n",
    "        mask = data['mask'].to(device, dtype = torch.long)\n",
    "        \n",
    "        with torch.no_grad():\n",
    "            output = model(ids, mask)\n",
    "        predictions.append(output.sigmoid().detach().cpu().numpy())\n",
    "        \n",
    "    return np.concatenate(predictions)"
   ]
  },
  {
   "cell_type": "code",
   "execution_count": 20,
   "id": "ae1a84a6",
   "metadata": {
    "execution": {
     "iopub.execute_input": "2022-05-11T17:55:18.880406Z",
     "iopub.status.busy": "2022-05-11T17:55:18.879797Z",
     "iopub.status.idle": "2022-05-11T17:55:18.891093Z",
     "shell.execute_reply": "2022-05-11T17:55:18.890171Z"
    },
    "papermill": {
     "duration": 0.060967,
     "end_time": "2022-05-11T17:55:18.893485",
     "exception": false,
     "start_time": "2022-05-11T17:55:18.832518",
     "status": "completed"
    },
    "tags": []
   },
   "outputs": [],
   "source": [
    "class PatentModel(torch.nn.Module):\n",
    "    def __init__(self):\n",
    "        super(PatentModel, self).__init__()\n",
    "        hidden_dropout_prob: float = 0.1\n",
    "        layer_norm_eps: float = 1e-7\n",
    "\n",
    "        config = AutoConfig.from_pretrained(CFG.config_path)\n",
    "\n",
    "        config.update(\n",
    "            {\n",
    "                \"output_hidden_states\": True,\n",
    "                \"hidden_dropout_prob\": hidden_dropout_prob,\n",
    "                \"layer_norm_eps\": layer_norm_eps,\n",
    "                \"add_pooling_layer\": False,\n",
    "            }\n",
    "        )\n",
    "        \n",
    "        self.transformer = AutoModel.from_pretrained(CFG.config_path, config=config)\n",
    "        self.dropout = nn.Dropout(config.hidden_dropout_prob)\n",
    "        self.dropout1 = nn.Dropout(0.1)\n",
    "        self.dropout2 = nn.Dropout(0.2)\n",
    "        self.dropout3 = nn.Dropout(0.3)\n",
    "        self.dropout4 = nn.Dropout(0.4)\n",
    "        self.dropout5 = nn.Dropout(0.5)\n",
    "        self.output = nn.Linear(config.hidden_size, CFG.num_targets)\n",
    "        \n",
    "    def forward(self, ids, mask):\n",
    "        transformer_out = self.transformer(input_ids=ids, attention_mask=mask)\n",
    "        last_hidden_states = transformer_out[0]\n",
    "        last_hidden_states = self.dropout(torch.mean(last_hidden_states, 1))\n",
    "        logits1 = self.output(self.dropout1(last_hidden_states))\n",
    "        logits2 = self.output(self.dropout2(last_hidden_states))\n",
    "        logits3 = self.output(self.dropout3(last_hidden_states))\n",
    "        logits4 = self.output(self.dropout4(last_hidden_states))\n",
    "        logits5 = self.output(self.dropout5(last_hidden_states))\n",
    "        logits = (logits1 + logits2 + logits3 + logits4 + logits5) / 5\n",
    "        \n",
    "        return logits"
   ]
  },
  {
   "cell_type": "code",
   "execution_count": 21,
   "id": "92b0bb77",
   "metadata": {
    "execution": {
     "iopub.execute_input": "2022-05-11T17:55:18.977964Z",
     "iopub.status.busy": "2022-05-11T17:55:18.977681Z",
     "iopub.status.idle": "2022-05-11T17:55:18.984671Z",
     "shell.execute_reply": "2022-05-11T17:55:18.983949Z"
    },
    "papermill": {
     "duration": 0.050355,
     "end_time": "2022-05-11T17:55:18.986483",
     "exception": false,
     "start_time": "2022-05-11T17:55:18.936128",
     "status": "completed"
    },
    "tags": []
   },
   "outputs": [],
   "source": [
    "def run_fold(test, fold, seed=42):    \n",
    "    \n",
    "    seed_everything(seed)\n",
    "    \n",
    "    test_dataset = PhraseDataset(\n",
    "        test.anchor.values,\n",
    "        test.target.values,\n",
    "        test.context.values,\n",
    "        CFG.tokenizer, \n",
    "        CFG.max_len\n",
    "    ) \n",
    "    \n",
    "    test_loader = DataLoader(test_dataset, \n",
    "                              batch_size=CFG.batch_size * 2, \n",
    "                              shuffle=False, \n",
    "                              num_workers=CFG.num_workers, pin_memory=True, drop_last=False)\n",
    "\n",
    "    model = PatentModel()\n",
    "    \n",
    "    model.load_state_dict(\n",
    "        torch.load(f'{CFG.model_path}/{CFG.model_name.replace(\"-\",\"_\")}_patent_model_{fold}.pth',\n",
    "        map_location=torch.device('cuda')\n",
    "        )\n",
    "    )\n",
    "    \n",
    "    model.to(device)\n",
    "\n",
    "    preds = inference_fn(model, test_loader)\n",
    "    \n",
    "    del model\n",
    "    gc.collect()\n",
    "    torch.cuda.empty_cache()\n",
    "    return preds"
   ]
  },
  {
   "cell_type": "code",
   "execution_count": 22,
   "id": "7aadf5f1",
   "metadata": {
    "execution": {
     "iopub.execute_input": "2022-05-11T17:55:19.067068Z",
     "iopub.status.busy": "2022-05-11T17:55:19.066513Z",
     "iopub.status.idle": "2022-05-11T17:55:19.071385Z",
     "shell.execute_reply": "2022-05-11T17:55:19.070548Z"
    },
    "papermill": {
     "duration": 0.047388,
     "end_time": "2022-05-11T17:55:19.073486",
     "exception": false,
     "start_time": "2022-05-11T17:55:19.026098",
     "status": "completed"
    },
    "tags": []
   },
   "outputs": [],
   "source": [
    "def inference_model(test, seed):\n",
    "    \n",
    "    predictions = []\n",
    "    \n",
    "    for f in range(CFG.n_folds):    \n",
    "        preds = run_fold(test, f, seed) \n",
    "        predictions.append(preds)\n",
    "        \n",
    "    test_preds = np.column_stack(predictions)\n",
    "        \n",
    "    return test_preds"
   ]
  },
  {
   "cell_type": "code",
   "execution_count": 23,
   "id": "7f6d4cbe",
   "metadata": {
    "execution": {
     "iopub.execute_input": "2022-05-11T17:55:19.152261Z",
     "iopub.status.busy": "2022-05-11T17:55:19.152036Z",
     "iopub.status.idle": "2022-05-11T17:57:03.752165Z",
     "shell.execute_reply": "2022-05-11T17:57:03.751201Z"
    },
    "papermill": {
     "duration": 104.64182,
     "end_time": "2022-05-11T17:57:03.754323",
     "exception": false,
     "start_time": "2022-05-11T17:55:19.112503",
     "status": "completed"
    },
    "tags": []
   },
   "outputs": [
    {
     "name": "stderr",
     "output_type": "stream",
     "text": [
      "Some weights of the model checkpoint at ../input/robertalarge were not used when initializing RobertaModel: ['lm_head.dense.bias', 'lm_head.dense.weight', 'lm_head.bias', 'lm_head.layer_norm.weight', 'lm_head.decoder.weight', 'lm_head.layer_norm.bias']\n",
      "- This IS expected if you are initializing RobertaModel from the checkpoint of a model trained on another task or with another architecture (e.g. initializing a BertForSequenceClassification model from a BertForPreTraining model).\n",
      "- This IS NOT expected if you are initializing RobertaModel from the checkpoint of a model that you expect to be exactly identical (initializing a BertForSequenceClassification model from a BertForSequenceClassification model).\n",
      "100%|██████████| 1/1 [00:00<00:00,  1.12it/s]\n",
      "Some weights of the model checkpoint at ../input/robertalarge were not used when initializing RobertaModel: ['lm_head.dense.bias', 'lm_head.dense.weight', 'lm_head.bias', 'lm_head.layer_norm.weight', 'lm_head.decoder.weight', 'lm_head.layer_norm.bias']\n",
      "- This IS expected if you are initializing RobertaModel from the checkpoint of a model trained on another task or with another architecture (e.g. initializing a BertForSequenceClassification model from a BertForPreTraining model).\n",
      "- This IS NOT expected if you are initializing RobertaModel from the checkpoint of a model that you expect to be exactly identical (initializing a BertForSequenceClassification model from a BertForSequenceClassification model).\n",
      "100%|██████████| 1/1 [00:00<00:00,  1.01it/s]\n",
      "Some weights of the model checkpoint at ../input/robertalarge were not used when initializing RobertaModel: ['lm_head.dense.bias', 'lm_head.dense.weight', 'lm_head.bias', 'lm_head.layer_norm.weight', 'lm_head.decoder.weight', 'lm_head.layer_norm.bias']\n",
      "- This IS expected if you are initializing RobertaModel from the checkpoint of a model trained on another task or with another architecture (e.g. initializing a BertForSequenceClassification model from a BertForPreTraining model).\n",
      "- This IS NOT expected if you are initializing RobertaModel from the checkpoint of a model that you expect to be exactly identical (initializing a BertForSequenceClassification model from a BertForSequenceClassification model).\n",
      "100%|██████████| 1/1 [00:00<00:00,  1.07it/s]\n",
      "Some weights of the model checkpoint at ../input/robertalarge were not used when initializing RobertaModel: ['lm_head.dense.bias', 'lm_head.dense.weight', 'lm_head.bias', 'lm_head.layer_norm.weight', 'lm_head.decoder.weight', 'lm_head.layer_norm.bias']\n",
      "- This IS expected if you are initializing RobertaModel from the checkpoint of a model trained on another task or with another architecture (e.g. initializing a BertForSequenceClassification model from a BertForPreTraining model).\n",
      "- This IS NOT expected if you are initializing RobertaModel from the checkpoint of a model that you expect to be exactly identical (initializing a BertForSequenceClassification model from a BertForSequenceClassification model).\n",
      "100%|██████████| 1/1 [00:00<00:00,  1.08it/s]\n",
      "Some weights of the model checkpoint at ../input/robertalarge were not used when initializing RobertaModel: ['lm_head.dense.bias', 'lm_head.dense.weight', 'lm_head.bias', 'lm_head.layer_norm.weight', 'lm_head.decoder.weight', 'lm_head.layer_norm.bias']\n",
      "- This IS expected if you are initializing RobertaModel from the checkpoint of a model trained on another task or with another architecture (e.g. initializing a BertForSequenceClassification model from a BertForPreTraining model).\n",
      "- This IS NOT expected if you are initializing RobertaModel from the checkpoint of a model that you expect to be exactly identical (initializing a BertForSequenceClassification model from a BertForSequenceClassification model).\n",
      "100%|██████████| 1/1 [00:00<00:00,  1.08it/s]\n"
     ]
    }
   ],
   "source": [
    "if __name__ == '__main__':\n",
    "    pred2 =  np.mean(inference_model(test, CFG.seed),axis=1)"
   ]
  },
  {
   "cell_type": "markdown",
   "id": "99c1b3fe",
   "metadata": {
    "papermill": {
     "duration": 0.048211,
     "end_time": "2022-05-11T17:57:03.854321",
     "exception": false,
     "start_time": "2022-05-11T17:57:03.806110",
     "status": "completed"
    },
    "tags": []
   },
   "source": [
    "# Ensemble"
   ]
  },
  {
   "cell_type": "code",
   "execution_count": 24,
   "id": "13eb13db",
   "metadata": {
    "execution": {
     "iopub.execute_input": "2022-05-11T17:57:03.951680Z",
     "iopub.status.busy": "2022-05-11T17:57:03.951417Z",
     "iopub.status.idle": "2022-05-11T17:57:03.955139Z",
     "shell.execute_reply": "2022-05-11T17:57:03.954468Z"
    },
    "papermill": {
     "duration": 0.053606,
     "end_time": "2022-05-11T17:57:03.956737",
     "exception": false,
     "start_time": "2022-05-11T17:57:03.903131",
     "status": "completed"
    },
    "tags": []
   },
   "outputs": [],
   "source": [
    "w1 = 0.66\n",
    "w2 = 0.33"
   ]
  },
  {
   "cell_type": "code",
   "execution_count": 25,
   "id": "ab4df00a",
   "metadata": {
    "execution": {
     "iopub.execute_input": "2022-05-11T17:57:04.053119Z",
     "iopub.status.busy": "2022-05-11T17:57:04.052468Z",
     "iopub.status.idle": "2022-05-11T17:57:04.059387Z",
     "shell.execute_reply": "2022-05-11T17:57:04.058715Z"
    },
    "papermill": {
     "duration": 0.057285,
     "end_time": "2022-05-11T17:57:04.061059",
     "exception": false,
     "start_time": "2022-05-11T17:57:04.003774",
     "status": "completed"
    },
    "tags": []
   },
   "outputs": [],
   "source": [
    "from sklearn.preprocessing import MinMaxScaler\n",
    "\n",
    "MMscaler = MinMaxScaler()\n",
    "\n",
    "pred1_mm = MMscaler.fit_transform(pred1.reshape(-1,1)).reshape(-1)\n",
    "pred2_mm = MMscaler.fit_transform(pred2.reshape(-1,1)).reshape(-1)\n",
    "\n",
    "final_predictions =  pred1_mm * w1 + pred2_mm * w2"
   ]
  },
  {
   "cell_type": "markdown",
   "id": "ef945eed",
   "metadata": {
    "papermill": {
     "duration": 0.046492,
     "end_time": "2022-05-11T17:57:04.155272",
     "exception": false,
     "start_time": "2022-05-11T17:57:04.108780",
     "status": "completed"
    },
    "tags": []
   },
   "source": [
    "# Submission"
   ]
  },
  {
   "cell_type": "code",
   "execution_count": 26,
   "id": "382c780a",
   "metadata": {
    "execution": {
     "iopub.execute_input": "2022-05-11T17:57:04.249443Z",
     "iopub.status.busy": "2022-05-11T17:57:04.249199Z",
     "iopub.status.idle": "2022-05-11T17:57:04.257930Z",
     "shell.execute_reply": "2022-05-11T17:57:04.257223Z"
    },
    "papermill": {
     "duration": 0.057884,
     "end_time": "2022-05-11T17:57:04.259668",
     "exception": false,
     "start_time": "2022-05-11T17:57:04.201784",
     "status": "completed"
    },
    "tags": []
   },
   "outputs": [],
   "source": [
    "sub['score'] = final_predictions\n",
    "sub.to_csv('submission.csv', index=False)"
   ]
  },
  {
   "cell_type": "code",
   "execution_count": 27,
   "id": "eef50f38",
   "metadata": {
    "execution": {
     "iopub.execute_input": "2022-05-11T17:57:04.354279Z",
     "iopub.status.busy": "2022-05-11T17:57:04.354061Z",
     "iopub.status.idle": "2022-05-11T17:57:04.363669Z",
     "shell.execute_reply": "2022-05-11T17:57:04.362904Z"
    },
    "papermill": {
     "duration": 0.059652,
     "end_time": "2022-05-11T17:57:04.366245",
     "exception": false,
     "start_time": "2022-05-11T17:57:04.306593",
     "status": "completed"
    },
    "tags": []
   },
   "outputs": [
    {
     "data": {
      "text/html": [
       "<div>\n",
       "<style scoped>\n",
       "    .dataframe tbody tr th:only-of-type {\n",
       "        vertical-align: middle;\n",
       "    }\n",
       "\n",
       "    .dataframe tbody tr th {\n",
       "        vertical-align: top;\n",
       "    }\n",
       "\n",
       "    .dataframe thead th {\n",
       "        text-align: right;\n",
       "    }\n",
       "</style>\n",
       "<table border=\"1\" class=\"dataframe\">\n",
       "  <thead>\n",
       "    <tr style=\"text-align: right;\">\n",
       "      <th></th>\n",
       "      <th>id</th>\n",
       "      <th>score</th>\n",
       "    </tr>\n",
       "  </thead>\n",
       "  <tbody>\n",
       "    <tr>\n",
       "      <th>0</th>\n",
       "      <td>4112d61851461f60</td>\n",
       "      <td>0.562026</td>\n",
       "    </tr>\n",
       "    <tr>\n",
       "      <th>1</th>\n",
       "      <td>09e418c93a776564</td>\n",
       "      <td>0.722787</td>\n",
       "    </tr>\n",
       "    <tr>\n",
       "      <th>2</th>\n",
       "      <td>36baf228038e314b</td>\n",
       "      <td>0.471415</td>\n",
       "    </tr>\n",
       "    <tr>\n",
       "      <th>3</th>\n",
       "      <td>1f37ead645e7f0c8</td>\n",
       "      <td>0.258514</td>\n",
       "    </tr>\n",
       "    <tr>\n",
       "      <th>4</th>\n",
       "      <td>71a5b6ad068d531f</td>\n",
       "      <td>0.008906</td>\n",
       "    </tr>\n",
       "  </tbody>\n",
       "</table>\n",
       "</div>"
      ],
      "text/plain": [
       "                 id     score\n",
       "0  4112d61851461f60  0.562026\n",
       "1  09e418c93a776564  0.722787\n",
       "2  36baf228038e314b  0.471415\n",
       "3  1f37ead645e7f0c8  0.258514\n",
       "4  71a5b6ad068d531f  0.008906"
      ]
     },
     "execution_count": 27,
     "metadata": {},
     "output_type": "execute_result"
    }
   ],
   "source": [
    "sub.head()"
   ]
  },
  {
   "cell_type": "code",
   "execution_count": null,
   "id": "806c7f07",
   "metadata": {
    "papermill": {
     "duration": 0.04793,
     "end_time": "2022-05-11T17:57:04.464261",
     "exception": false,
     "start_time": "2022-05-11T17:57:04.416331",
     "status": "completed"
    },
    "tags": []
   },
   "outputs": [],
   "source": []
  }
 ],
 "metadata": {
  "kernelspec": {
   "display_name": "Python 3",
   "language": "python",
   "name": "python3"
  },
  "language_info": {
   "codemirror_mode": {
    "name": "ipython",
    "version": 3
   },
   "file_extension": ".py",
   "mimetype": "text/x-python",
   "name": "python",
   "nbconvert_exporter": "python",
   "pygments_lexer": "ipython3",
   "version": "3.7.12"
  },
  "papermill": {
   "default_parameters": {},
   "duration": 257.421515,
   "end_time": "2022-05-11T17:57:07.359603",
   "environment_variables": {},
   "exception": null,
   "input_path": "__notebook__.ipynb",
   "output_path": "__notebook__.ipynb",
   "parameters": {},
   "start_time": "2022-05-11T17:52:49.938088",
   "version": "2.3.4"
  }
 },
 "nbformat": 4,
 "nbformat_minor": 5
}
